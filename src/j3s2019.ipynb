{
 "cells": [
  {
   "cell_type": "markdown",
   "metadata": {},
   "source": [
    "# 2019年度 第11回F3S講習会 ゼロから始めるJupyter Notebook"
   ]
  },
  {
   "cell_type": "markdown",
   "metadata": {},
   "source": [
    "# python入門"
   ]
  },
  {
   "cell_type": "markdown",
   "metadata": {},
   "source": [
    "### Hello, World\n",
    "\n",
    "pythonでは`var = 12`のようにして変数を与えます．イコールは代入を表します．\n",
    "\n",
    "* 数値(int, float, complex)\n",
    "* 配列(list, tuple, dict)\n",
    "* 文字列(str)\n",
    "\n",
    "クォーテーションかダブルクォーテーションで囲まれた部分が文字列となります．\n",
    "\n",
    "Hello, Worldを出力してみましょう．"
   ]
  },
  {
   "cell_type": "code",
   "execution_count": null,
   "metadata": {},
   "outputs": [],
   "source": [
    "char = 'Hello, World'\n",
    "print(char)"
   ]
  },
  {
   "cell_type": "markdown",
   "metadata": {},
   "source": [
    "`print()`は引数を画面に出力する関数です．\n",
    "文字列の中に変数を入れたいようなときは`format()`を使って\n",
    "\n",
    "```py\n",
    "\n",
    "char = 'Python'\n",
    "print('Hello, {}'.format(chara))\n",
    "\n",
    "```\n",
    "\n",
    "とすると，`{}`の部分が置き換わります．"
   ]
  },
  {
   "cell_type": "code",
   "execution_count": null,
   "metadata": {},
   "outputs": [],
   "source": [
    "char = 'Python'\n",
    "print('Hello, {}'.format(char))"
   ]
  },
  {
   "cell_type": "markdown",
   "metadata": {},
   "source": [
    "### 四則演算\n",
    "\n",
    "変数Aと変数Bを使って演算をした結果を返します．\n",
    "\n",
    "| 演算 | 記号 | コード |\n",
    "| : | : | : |\n",
    "| 和 | プラス | `A + B` |\n",
    "| 差 | ハイフン | `A - B` |\n",
    "| 積 | アスタリスク | `A * B` | \n",
    "| 除 | スラッシュ | `A / B` |\n",
    "| 切り捨て除算 | ダブルスラッシュ | `A // B` |\n",
    "| 余り | ％ | `A % B` |\n",
    "| 累乗 | ダブルアスタリスク | `A ** B`"
   ]
  },
  {
   "cell_type": "code",
   "execution_count": null,
   "metadata": {},
   "outputs": [],
   "source": [
    "a = 1\n",
    "b = 3\n",
    "a + b"
   ]
  },
  {
   "cell_type": "markdown",
   "metadata": {},
   "source": [
    "Jupyterではセルの最後の行は自動的に出力されます．\n",
    "\n",
    "変数が数値型同士なら型が違っていても計算することが出来ます．"
   ]
  },
  {
   "cell_type": "code",
   "execution_count": null,
   "metadata": {},
   "outputs": [],
   "source": [
    "c = 0.25\n",
    "b - c"
   ]
  },
  {
   "cell_type": "code",
   "execution_count": null,
   "metadata": {},
   "outputs": [],
   "source": [
    "a = 3\n",
    "b = 5\n",
    "c = 6\n",
    "\n",
    "(a + b) // c"
   ]
  },
  {
   "cell_type": "markdown",
   "metadata": {},
   "source": [
    "### 比較演算\n",
    "\n",
    "変数Aと変数Bを比較して真なら`True`，偽なら`False`を返します．\n",
    "\n",
    "| 演算子 | 振る舞い |\n",
    "|:|:|\n",
    "| `is, ==` | 両者が等しければ真，そうでなければ偽 |\n",
    "| `not, !=` | 両者が異なっていれば真，そうでなければ偽 |\n",
    "| `<, >, <=, >=` | 大小比較 |"
   ]
  },
  {
   "cell_type": "markdown",
   "metadata": {},
   "source": [
    "### 論理演算\n",
    "\n",
    "真偽値を返す演算子\n",
    "\n",
    "* and\n",
    "* or\n",
    "* not"
   ]
  },
  {
   "cell_type": "markdown",
   "metadata": {},
   "source": [
    "### リストとタプル\n",
    "\n",
    "複数のデータをカンマで区切ってひとまとめにしたものを配列といいます．\n",
    "\n",
    "```py\n",
    "\n",
    "List = [a, b, c]\n",
    "Tuple = (a, b, c)\n",
    "\n",
    "```"
   ]
  },
  {
   "cell_type": "code",
   "execution_count": null,
   "metadata": {},
   "outputs": [],
   "source": [
    "a = [\"Sunday\", \"Munday\", \"Tuesday\", \"Wednesday\", \"Thursday\", \"Friday\", \"Saturday\"]\n",
    "a"
   ]
  },
  {
   "cell_type": "code",
   "execution_count": null,
   "metadata": {},
   "outputs": [],
   "source": [
    "b = (1, 10, 100, 1000, 10000)\n",
    "b"
   ]
  },
  {
   "cell_type": "markdown",
   "metadata": {},
   "source": [
    "リストやタプルの要素を取り出すには`var[0]`のように変数のあとに`[数]`をくっつけます．"
   ]
  },
  {
   "cell_type": "code",
   "execution_count": null,
   "metadata": {},
   "outputs": [],
   "source": [
    "b[3]"
   ]
  },
  {
   "cell_type": "markdown",
   "metadata": {},
   "source": [
    "リストとタプルの違いは\n",
    "\n",
    "* リスト：変更可能(ミュータブル)\n",
    "* タプル：変更不可能(イミュータブル)\n",
    "\n",
    "という点です．\n",
    "\n",
    "例えば"
   ]
  },
  {
   "cell_type": "code",
   "execution_count": null,
   "metadata": {},
   "outputs": [],
   "source": [
    "a[1] = 'Monday'\n",
    "a"
   ]
  },
  {
   "cell_type": "markdown",
   "metadata": {},
   "source": [
    "のようにリストはその要素の変更ができます．\n",
    "\n",
    "一方タプルは"
   ]
  },
  {
   "cell_type": "code",
   "execution_count": null,
   "metadata": {},
   "outputs": [],
   "source": [
    "b[1] = -1\n",
    "b"
   ]
  },
  {
   "cell_type": "markdown",
   "metadata": {},
   "source": [
    "のように要素を変更することが出来ません．"
   ]
  },
  {
   "cell_type": "markdown",
   "metadata": {},
   "source": [
    "### 辞書型\n",
    "\n",
    "リストやタプル以外に辞書型という配列もあります．\n",
    "`key`と`value`によってデータが紐付けられているのが特徴です．\n",
    "\n",
    "```py\n",
    "\n",
    "d = {\n",
    "    'key1': value1,\n",
    "    'key2': value2\n",
    "}\n",
    "\n",
    "```"
   ]
  },
  {
   "cell_type": "code",
   "execution_count": null,
   "metadata": {},
   "outputs": [],
   "source": [
    "a = 0\n",
    "b = 'One'\n",
    "Dict = {\n",
    "    'a': a,\n",
    "    'b': b\n",
    "}\n",
    "Dict"
   ]
  },
  {
   "cell_type": "markdown",
   "metadata": {},
   "source": [
    "辞書型の変数から要素を取り出すには，キーを指定して\n",
    "```py\n",
    "\n",
    "Dict[key]\n",
    "\n",
    "```\n",
    "のようにします．"
   ]
  },
  {
   "cell_type": "code",
   "execution_count": null,
   "metadata": {},
   "outputs": [],
   "source": [
    "Dict['b']"
   ]
  },
  {
   "cell_type": "markdown",
   "metadata": {},
   "source": [
    "### 分岐処理と繰り返し処理\n",
    "\n",
    "`if`文を使って処理を分岐させることが出来ます．\n",
    "\n",
    "```\n",
    "if 条件式:\n",
    "    真のときに実行される\n",
    "    \n",
    "else:\n",
    "    偽のときに実行される\n",
    "```\n",
    "\n",
    "**注意事項**\n",
    "\n",
    "* 条件式の後にコロンをつける\n",
    "* コロンの次の行はTabかスペース4つ分の空白が必要\n",
    "\n",
    "これを忘れるとエラーとなる．"
   ]
  },
  {
   "cell_type": "code",
   "execution_count": null,
   "metadata": {},
   "outputs": [],
   "source": [
    "a = b = 10\n",
    "c = 100\n",
    "\n",
    "if a == b:\n",
    "    print(\"a={}とb={}は一致する\".format(a, b))\n",
    "else:\n",
    "    print(\"a={}とb={}は一致しない\".format(a, b))\n",
    "\n",
    "if a == c:\n",
    "    print(\"a={}とc={}は一致する\".format(a, c))\n",
    "else:\n",
    "    print(\"a={}とc={}は一致しない\".format(a, c))"
   ]
  },
  {
   "cell_type": "markdown",
   "metadata": {},
   "source": [
    "`for`文を使って処理を繰り返すことが出来る．\n",
    "\n",
    "```py\n",
    "\n",
    "for i in List:\n",
    "    処理A\n",
    "    処理B\n",
    "    ...\n",
    "    処理Z\n",
    "\n",
    "```\n",
    "\n",
    "これは次のように理解されます．\n",
    "\n",
    "1. リストの最初の要素を`i`に代入\n",
    "2. 処理を上の行から順に実行する\n",
    "3. 最後の処理が実行されたらリストの次の要素を`i`に代入する\n",
    "4. リストの最後の要素について処理が実行されるまで2と3を繰り返す"
   ]
  },
  {
   "cell_type": "code",
   "execution_count": null,
   "metadata": {},
   "outputs": [],
   "source": [
    "Z = [0, 1, 2, 3, 4]\n",
    "for z in Z:\n",
    "    if z % 2 == 0:\n",
    "        print(\"{}は偶数\".format(z))\n",
    "    else:\n",
    "        print(\"{}は奇数\".format(z))"
   ]
  },
  {
   "cell_type": "markdown",
   "metadata": {},
   "source": [
    "### 関数を定義する\n",
    "\n",
    "`関数名(引数1, 引数2, ...)`のようになっているものを関数と言います．\n",
    "* 例：`print()`\n",
    "\n",
    "\n",
    "一連の処理をまとめてオリジナルの関数を作ることも出来ます．\n",
    "例えば，\n",
    "変数Aと変数Bに対して`-(A-B)`をした結果を返す関数は次のように\n",
    "書けます．\n",
    "\n",
    "```py\n",
    "def myfunc(a, b):\n",
    "    c = a - b\n",
    "    c = -c\n",
    "    return c\n",
    "```"
   ]
  },
  {
   "cell_type": "code",
   "execution_count": null,
   "metadata": {},
   "outputs": [],
   "source": [
    "def myfunc(a, b):\n",
    "    c = a - b\n",
    "    c = -c\n",
    "    return c\n",
    "\n",
    "\n",
    "myfunc(2, 7)"
   ]
  },
  {
   "cell_type": "markdown",
   "metadata": {},
   "source": [
    "# ライブラリを使ってみよう"
   ]
  },
  {
   "cell_type": "markdown",
   "metadata": {},
   "source": [
    "Pythonのライブラリを使うには\n",
    "\n",
    "```py\n",
    "import ライブラリ名 as エイリアス\n",
    "```\n",
    "\n",
    "の実行する必要があります．エイリアスを使ってライブラリ名を任意の省略した名前にすることが出来ます．\n",
    "\n",
    "ライブラリにはいろいろな関数が定義されていて，その中から自分の使いたい関数を選んでくる必要があります．\n",
    "\n",
    "ライブラリに定義されてある全ての関数の紹介はここでは出来ないので，例題を通してPythonのライブラリを体験してみましょう．"
   ]
  },
  {
   "cell_type": "markdown",
   "metadata": {},
   "source": [
    "## numpy\n",
    "\n",
    "`numpy`はPythonで数値計算をするときに使うライブラリです．インポートは\n",
    "\n",
    "```py\n",
    "\n",
    "import numpy as np\n",
    "```\n",
    "\n",
    "`numpy`ではエイリアスとして`np`が慣例として使われています．\n",
    "\n",
    "\n",
    "### 例題１\n",
    "\n",
    "半径1の円の方程式は\n",
    "$$\n",
    "x^2+y^2=1\n",
    "$$\n",
    "となる．これを確かめてみよう．\n",
    "\n",
    "$x$と$y$はある角度$\\theta$に対して\n",
    "$$\n",
    "x = \\cos(\\theta), \\quad y = \\sin(\\theta)\n",
    "$$\n",
    "と与えられる．これをPythonで書いてみると"
   ]
  },
  {
   "cell_type": "code",
   "execution_count": null,
   "metadata": {},
   "outputs": [],
   "source": [
    "import numpy as np\n",
    "\n",
    "\n",
    "def circle(rad):\n",
    "    x = np.cos(rad)\n",
    "    y = np.sin(rad)\n",
    "    return x, y"
   ]
  },
  {
   "cell_type": "markdown",
   "metadata": {},
   "source": [
    "$\\theta=\\pi$のとき，\n",
    "$$\n",
    "x = \\cos(\\pi) = -1, \\quad y = \\sin(\\pi) = 0\n",
    "$$\n",
    "これを確かめてみると"
   ]
  },
  {
   "cell_type": "code",
   "execution_count": null,
   "metadata": {},
   "outputs": [],
   "source": [
    "circle(np.pi)"
   ]
  },
  {
   "cell_type": "markdown",
   "metadata": {},
   "source": [
    "となって確かに正しい結果になっていそうなことがわかります．\n",
    "\n",
    "その他の場合も確かめてみましょう．\n",
    "\n",
    "`numpy`では区間$[a,b]$の数列を作る`linspace`という関数があります．\n",
    "これを使って$0$から$2\\pi$の範囲で$x$と$y$を見てみましょう．"
   ]
  },
  {
   "cell_type": "code",
   "execution_count": null,
   "metadata": {},
   "outputs": [],
   "source": [
    "rad = np.linspace(0, 2*np.pi)\n",
    "c = circle(rad)\n",
    "c"
   ]
  },
  {
   "cell_type": "markdown",
   "metadata": {},
   "source": [
    "## グラフをプロットしてみる"
   ]
  },
  {
   "cell_type": "markdown",
   "metadata": {},
   "source": [
    "上の結果を見てすぐに円の方程式になっているかわかるでしょうか？\n",
    "\n",
    "グラフをプロットするともっとわかりやすい結果が現れます．\n",
    "\n",
    "グラフをプロットするライブラリはいくつかありますが，ここでは標準的な`matplotlib`というものを使ってみます．\n",
    "\n",
    "インポートは\n",
    "\n",
    "```py\n",
    "\n",
    "import matplotlib.pyplot as plt\n",
    "\n",
    "```\n",
    "とします．プロットする関数は`plt.plot(x軸データ, y軸データ)`と書きます．\n",
    "\n",
    "データは\n",
    "* list\n",
    "* tuple\n",
    "* numpyの配列(np.array)\n",
    "の形であれば何でもいいですが，要素数が一致していないといけません．"
   ]
  },
  {
   "cell_type": "markdown",
   "metadata": {},
   "source": [
    "要素数を数えるには`len()`という関数を使います．"
   ]
  },
  {
   "cell_type": "code",
   "execution_count": null,
   "metadata": {},
   "outputs": [],
   "source": [
    "x = c[0]\n",
    "y = c[1]\n",
    "len(x) == len(y)"
   ]
  },
  {
   "cell_type": "markdown",
   "metadata": {},
   "source": [
    "実際にプロットしてみましょう．"
   ]
  },
  {
   "cell_type": "code",
   "execution_count": null,
   "metadata": {},
   "outputs": [],
   "source": [
    "import matplotlib.pyplot as plt\n",
    "\n",
    "plt.axes().set_aspect(\"equal\")\n",
    "plt.plot(x, y)\n",
    "plt.show()"
   ]
  },
  {
   "cell_type": "markdown",
   "metadata": {},
   "source": [
    "## sympy\n",
    "\n",
    "`sympy`は記号計算をするためのライブラリです．\n",
    "次のようにインポートします．\n",
    "\n",
    "```py\n",
    "from sympy import *\n",
    "init_printing()\n",
    "```\n",
    "\n",
    "`*`は`sympy`で定義されている関数などを全てインポートするということを表しています．\n",
    "\n",
    "`init_printing()`は式をMathjaxで描画するための関数です．"
   ]
  },
  {
   "cell_type": "markdown",
   "metadata": {},
   "source": [
    "`sympy`で変数を記号のまま扱うためには\n",
    "\n",
    "```python\n",
    "\n",
    "x = Symbol('x')\n",
    "\n",
    "```\n",
    "として変数を定義する必要があります．`Symbol()`のほかにも`symbols()`や`var()`があります．"
   ]
  },
  {
   "cell_type": "code",
   "execution_count": null,
   "metadata": {},
   "outputs": [],
   "source": [
    "Symbol('x') == var('x'), Symbol('x') == symbols('x')"
   ]
  },
  {
   "cell_type": "code",
   "execution_count": null,
   "metadata": {},
   "outputs": [],
   "source": [
    "from sympy import *\n",
    "\n",
    "x = symbols('x')\n",
    "x"
   ]
  },
  {
   "cell_type": "code",
   "execution_count": null,
   "metadata": {},
   "outputs": [],
   "source": [
    "f = 1/(x**3+1)\n",
    "f"
   ]
  },
  {
   "cell_type": "markdown",
   "metadata": {},
   "source": [
    "### 積分\n",
    "\n",
    "\n",
    "ここでは一例として，次の積分をやってみます．\n",
    "\n",
    "$$\n",
    "\\begin{align}\n",
    "&\\int^{1}_{0} dx \\frac{1}{x^3+1},\n",
    "\\\\\n",
    "&\\int dx x e^x \\sin(x) \\cos(x),\n",
    "\\\\\n",
    "&\\int dx \\frac{1}{\\sin(x) + \\cos(x) + 1}\n",
    "\\end{align}\n",
    "$$\n",
    "\n",
    "参考：[高校生・受験生への挑戦状！積分最難問ランダム13題](https://examist.jp/mathematics/random-integration/sekibun-nanmon/)\n",
    "\n",
    "\n",
    "`sympy`で積分は`integrate(式，(積分変数，下限，上限))`という関数を使います．不定積分の場合は積分変数だけを指定すればオッケー．"
   ]
  },
  {
   "cell_type": "code",
   "execution_count": null,
   "metadata": {},
   "outputs": [],
   "source": [
    "integrate(1/(x**3+1), (x, 0, 1))"
   ]
  },
  {
   "cell_type": "code",
   "execution_count": null,
   "metadata": {},
   "outputs": [],
   "source": [
    "integrate(x*exp(x)*sin(x)*cos(x), x)"
   ]
  },
  {
   "cell_type": "code",
   "execution_count": null,
   "metadata": {},
   "outputs": [],
   "source": [
    "integrate(1/(sin(x)+cos(x)+1))"
   ]
  },
  {
   "cell_type": "markdown",
   "metadata": {},
   "source": [
    "得られた式が複雑になっている場合があります．そのようなとき`simplify()`によって式が簡単になる場合があります．\n",
    "２番目の式を簡単にしてみましょう．"
   ]
  },
  {
   "cell_type": "code",
   "execution_count": null,
   "metadata": {},
   "outputs": [],
   "source": [
    "s = integrate(x*exp(x)*sin(x)*cos(x), x)\n",
    "simplify(s)"
   ]
  },
  {
   "cell_type": "markdown",
   "metadata": {},
   "source": [
    "## scipy\n",
    "\n",
    "上の結果を数値計算でもやってみましょう．Pythonで数値積分は`scipy`の`integrate.quad(被積分関数，下限，上限)`を使います．\n",
    "返り値は積分の結果と数値計算の誤差のタプルになっています．\n",
    "\n",
    "```py\n",
    "import scipy as sp\n",
    "```"
   ]
  },
  {
   "cell_type": "code",
   "execution_count": null,
   "metadata": {},
   "outputs": [],
   "source": [
    "import scipy as sp\n",
    "\n",
    "\n",
    "def f(x):\n",
    "    return 1 / (1 + x ** 3)\n",
    "\n",
    "\n",
    "s, error = sp.integrate.quad(f, 0, 1)\n",
    "s"
   ]
  },
  {
   "cell_type": "code",
   "execution_count": null,
   "metadata": {},
   "outputs": [],
   "source": [
    "s - (np.log(2)/3 + np.sqrt(3)*np.pi/9)"
   ]
  },
  {
   "cell_type": "markdown",
   "metadata": {},
   "source": [
    "## pandas\n",
    "\n",
    "```py\n",
    "import pandas as pd\n",
    "```\n",
    "\n",
    "気象庁\n",
    "過去の気象データ\n",
    "http://www.data.jma.go.jp/gmd/risk/obsdl/index.php"
   ]
  },
  {
   "cell_type": "code",
   "execution_count": null,
   "metadata": {},
   "outputs": [],
   "source": [
    "import pandas as pd\n",
    "\n",
    "df = pd.read_csv(\"higashi_hiroshima_data.csv\", header=2, index_col=0, parse_dates=True)\n",
    "df"
   ]
  },
  {
   "cell_type": "code",
   "execution_count": null,
   "metadata": {},
   "outputs": [],
   "source": [
    "print('dataframeの行数・列数の確認==>\\n', df.shape)\n",
    "print('indexの確認==>\\n', df.index)\n",
    "print('columnの確認==>\\n', df.columns)\n",
    "print('dataframeの各列のデータ型を確認==>\\n', df.dtypes)"
   ]
  },
  {
   "cell_type": "code",
   "execution_count": null,
   "metadata": {},
   "outputs": [],
   "source": [
    "df.head()"
   ]
  },
  {
   "cell_type": "code",
   "execution_count": null,
   "metadata": {},
   "outputs": [],
   "source": [
    "df.iloc[2:, [0,3,6,9]]"
   ]
  },
  {
   "cell_type": "code",
   "execution_count": null,
   "metadata": {},
   "outputs": [],
   "source": [
    "rf = df.iloc[2:, [0,3,6]]\n",
    "rf.plot()"
   ]
  },
  {
   "cell_type": "code",
   "execution_count": null,
   "metadata": {},
   "outputs": [],
   "source": [
    "rf.replace('平均気温(℃)', 'MeanTemp(℃)')"
   ]
  },
  {
   "cell_type": "code",
   "execution_count": null,
   "metadata": {},
   "outputs": [],
   "source": [
    "rf = rf.rename(\n",
    "    columns={\"平均気温(℃)\": \"MeanTemp(℃)\", \"最高気温(℃)\": \"MaxTemp(℃)\", \"最低気温(℃)\": \"MinTemp(℃)\"}\n",
    ")\n",
    "rf.plot()"
   ]
  },
  {
   "cell_type": "code",
   "execution_count": null,
   "metadata": {},
   "outputs": [],
   "source": [
    "rf_ = rf.reset_index()\n",
    "rf_\n",
    "# data = rf_[rf_['年月日'].str.contains('2015')]\n",
    "rf_['年月日']"
   ]
  },
  {
   "cell_type": "code",
   "execution_count": null,
   "metadata": {},
   "outputs": [],
   "source": [
    "rf_['年月日'] = rf_['年月日'].astype('str')\n",
    "data_2015_10 = rf_[rf_['年月日'].str.contains('2015-10')]\n",
    "data_2015_10['MeanTemp(℃)'].plot()"
   ]
  },
  {
   "cell_type": "code",
   "execution_count": null,
   "metadata": {},
   "outputs": [],
   "source": [
    "data_2015_10 = list(rf_[rf_['年月日'].str.contains('2015-10')]['MeanTemp(℃)'])\n",
    "data_2016_10 = list(rf_[rf_['年月日'].str.contains('2016-10')]['MeanTemp(℃)'])\n",
    "data_2017_10 = list(rf_[rf_['年月日'].str.contains('2017-10')]['MeanTemp(℃)'])\n",
    "data_2018_10 = list(rf_[rf_['年月日'].str.contains('2018-10')]['MeanTemp(℃)'])\n",
    "data_2019_10 = list(rf_[rf_['年月日'].str.contains('2019-10')]['MeanTemp(℃)'])"
   ]
  },
  {
   "cell_type": "code",
   "execution_count": null,
   "metadata": {},
   "outputs": [],
   "source": [
    "day = (\"{}\".format(i) for i in range(1, 32))\n",
    "temp_oct = pd.DataFrame(\n",
    "    {\n",
    "        \"2015-10\": data_2015_10,\n",
    "        \"2016-10\": data_2016_10,\n",
    "        \"2017-10\": data_2017_10,\n",
    "        \"2018-10\": data_2018_10,\n",
    "        #     '2019-10': data_2019_10\n",
    "    },\n",
    "    index=day,\n",
    ")\n",
    "\n",
    "temp_oct.plot()"
   ]
  },
  {
   "cell_type": "code",
   "execution_count": null,
   "metadata": {},
   "outputs": [],
   "source": [
    "data_2015_08 = list(rf_[rf_[\"年月日\"].str.contains(\"2015-08\")][\"MeanTemp(℃)\"])\n",
    "data_2016_08 = list(rf_[rf_[\"年月日\"].str.contains(\"2016-08\")][\"MeanTemp(℃)\"])\n",
    "data_2017_08 = list(rf_[rf_[\"年月日\"].str.contains(\"2017-08\")][\"MeanTemp(℃)\"])\n",
    "data_2018_08 = list(rf_[rf_[\"年月日\"].str.contains(\"2018-08\")][\"MeanTemp(℃)\"])\n",
    "\n",
    "day = (\"{}\".format(i) for i in range(1, 32))\n",
    "temp_aug = pd.DataFrame(\n",
    "    {\n",
    "        \"2015-08\": data_2015_08,\n",
    "        \"2016-08\": data_2016_08,\n",
    "        \"2017-08\": data_2017_08,\n",
    "        \"2018-08\": data_2018_08\n",
    "    },\n",
    "    index=day,\n",
    ")\n",
    "\n",
    "temp_aug.plot()"
   ]
  },
  {
   "cell_type": "code",
   "execution_count": null,
   "metadata": {},
   "outputs": [],
   "source": [
    "data_2015_02 = list(rf_[rf_[\"年月日\"].str.contains(\"2015-02\")][\"MeanTemp(℃)\"])"
   ]
  },
  {
   "cell_type": "code",
   "execution_count": null,
   "metadata": {},
   "outputs": [],
   "source": []
  }
 ],
 "metadata": {
  "kernelspec": {
   "display_name": "Python 3",
   "language": "python",
   "name": "python3"
  },
  "language_info": {
   "codemirror_mode": {
    "name": "ipython",
    "version": 3
   },
   "file_extension": ".py",
   "mimetype": "text/x-python",
   "name": "python",
   "nbconvert_exporter": "python",
   "pygments_lexer": "ipython3",
   "version": "3.7.0"
  }
 },
 "nbformat": 4,
 "nbformat_minor": 4
}
